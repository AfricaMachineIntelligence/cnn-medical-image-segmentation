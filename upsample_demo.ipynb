{
 "cells": [
  {
   "cell_type": "code",
   "execution_count": 1,
   "metadata": {},
   "outputs": [
    {
     "data": {
      "text/plain": [
       "<matplotlib.image.AxesImage at 0x152aaeaa278>"
      ]
     },
     "execution_count": 1,
     "metadata": {},
     "output_type": "execute_result"
    },
    {
     "data": {
      "image/png": "[encoded data removed]",
      "text/plain": [
       "<matplotlib.figure.Figure at 0x152aac5aa58>"
      ]
     },
     "metadata": {},
     "output_type": "display_data"
    }
   ],
   "source": [
    "%matplotlib inline\n",
    "\n",
    "from numpy import ogrid, repeat, newaxis\n",
    "\n",
    "from skimage import io\n",
    "\n",
    "# Generate image that will be used for test upsampling\n",
    "# Number of channels is 3 -- we also treat the number of\n",
    "# samples like the number of classes, because later on\n",
    "# that will be used to upsample predictions from the network\n",
    "imsize = 3\n",
    "x, y = ogrid[:imsize, :imsize]\n",
    "img = repeat((x + y)[..., newaxis], 3, 2) / float(imsize + imsize)\n",
    "io.imshow(img, interpolation='none')"
   ]
  },
  {
   "cell_type": "code",
   "execution_count": 4,
   "metadata": {},
   "outputs": [
    {
     "data": {
      "text/plain": [
       "<matplotlib.image.AxesImage at 0x152acc20eb8>"
      ]
     },
     "execution_count": 4,
     "metadata": {},
     "output_type": "execute_result"
    },
    {
     "data": {
      "image/png": "[encoded data removed]",
      "text/plain": [
       "<matplotlib.figure.Figure at 0x152aaf0eb70>"
      ]
     },
     "metadata": {},
     "output_type": "display_data"
    }
   ],
   "source": [
    "import skimage.transform\n",
    "\n",
    "def upsample_skimage(factor, input_img):\n",
    "    \n",
    "    # Pad with 0 values, similar to how Tensorflow does it.\n",
    "    # Order=1 is bilinear upsampling\n",
    "    return skimage.transform.rescale(input_img,\n",
    "                                     factor,\n",
    "                                     mode='constant',\n",
    "                                     cval=0,\n",
    "                                     order=1)\n",
    "\n",
    "\n",
    "upsampled_img_skimage = upsample_skimage(factor=[5,1], input_img=img)\n",
    "io.imshow(upsampled_img_skimage, interpolation='none')"
   ]
  },
  {
   "cell_type": "code",
   "execution_count": 5,
   "metadata": {
    "collapsed": true
   },
   "outputs": [],
   "source": [
    "from __future__ import division\n",
    "import numpy as np\n",
    "import tensorflow as tf\n",
    "\n",
    "def get_kernel_size(factors):\n",
    "    \"\"\"\n",
    "    Find the kernel size given the desired factor of upsampling.\n",
    "    \"\"\"\n",
    "    return [2 * factor - factor % 2 for factor in factors]\n",
    "\n",
    "\n",
    "def upsample_filt(sizes):\n",
    "    \"\"\"\n",
    "    Make a 2D bilinear kernel suitable for upsampling of the given (h, w) size.\n",
    "    \"\"\"\n",
    "    factors = [(size + 1) // 2 for size in sizes]\n",
    "    center = [0]*len(sizes)\n",
    "    for i in range(len(sizes)):\n",
    "        if sizes[i] % 2 == 1:\n",
    "            center[i] = factors[i] - 1\n",
    "        else:\n",
    "            center[i] = factors[i] - 0.5\n",
    "    og = np.ogrid[:sizes[0], :sizes[1]]\n",
    "    return (1 - abs(og[0] - center[0]) / factors[0]) * (1 - abs(og[1] - center[1]) / factors[1])\n",
    "\n",
    "\n",
    "def bilinear_upsample_weights(factors, number_of_classes):\n",
    "    \"\"\"\n",
    "    Create weights matrix for transposed convolution with bilinear filter\n",
    "    initialization.\n",
    "    \"\"\"\n",
    "    \n",
    "    filter_sizes = get_kernel_size(factors)\n",
    "    \n",
    "    weights = np.zeros((filter_sizes[0],\n",
    "                        filter_sizes[1],\n",
    "                        number_of_classes,\n",
    "                        number_of_classes), dtype=np.float32)\n",
    "    \n",
    "    upsample_kernel = upsample_filt(filter_sizes)\n",
    "    \n",
    "    for i in range(number_of_classes):\n",
    "        \n",
    "        weights[:, :, i, i] = upsample_kernel\n",
    "    \n",
    "    return weights"
   ]
  },
  {
   "cell_type": "code",
   "execution_count": 6,
   "metadata": {},
   "outputs": [
    {
     "data": {
      "text/plain": [
       "<matplotlib.image.AxesImage at 0x152af5b0cf8>"
      ]
     },
     "execution_count": 6,
     "metadata": {},
     "output_type": "execute_result"
    },
    {
     "data": {
      "image/png": "[encoded data removed]",
      "text/plain": [
       "<matplotlib.figure.Figure at 0x152af56fa20>"
      ]
     },
     "metadata": {},
     "output_type": "display_data"
    }
   ],
   "source": [
    "def upsample_tf(factor, input_img):\n",
    "    \n",
    "    number_of_classes = input_img.shape[2]\n",
    "    \n",
    "    new_height = input_img.shape[0] * factor[0]\n",
    "    new_width = input_img.shape[1] * factor[1]\n",
    "    \n",
    "    expanded_img = np.expand_dims(input_img, axis=0)\n",
    "\n",
    "    with tf.Graph().as_default():\n",
    "        with tf.Session() as sess:\n",
    "            with tf.device(\"/cpu:0\"):\n",
    "\n",
    "                upsample_filt_pl = tf.placeholder(tf.float32)\n",
    "                logits_pl = tf.placeholder(tf.float32)\n",
    "\n",
    "                upsample_filter_np = bilinear_upsample_weights(factor,\n",
    "                                        number_of_classes)\n",
    "\n",
    "                res = tf.nn.conv2d_transpose(logits_pl, upsample_filt_pl,\n",
    "                        output_shape=[1, new_height, new_width, number_of_classes],\n",
    "                        strides=[1, factor[0], factor[1], 1])\n",
    "\n",
    "                final_result = sess.run(res,\n",
    "                                feed_dict={upsample_filt_pl: upsample_filter_np,\n",
    "                                           logits_pl: expanded_img})\n",
    "    \n",
    "    return final_result.squeeze()\n",
    "\n",
    "upsampled_img_tf = upsample_tf(factor=[5,1], input_img=img)\n",
    "io.imshow(upsampled_img_tf)"
   ]
  },
  {
   "cell_type": "code",
   "execution_count": 8,
   "metadata": {},
   "outputs": [
    {
     "data": {
      "text/plain": [
       "True"
      ]
     },
     "execution_count": 8,
     "metadata": {},
     "output_type": "execute_result"
    }
   ],
   "source": [
    "np.allclose(upsampled_img_skimage, upsampled_img_tf)"
   ]
  },
  {
   "cell_type": "code",
   "execution_count": 9,
   "metadata": {},
   "outputs": [
    {
     "name": "stdout",
     "output_type": "stream",
     "text": [
      "Check for factor [4, 4]: True\n",
      "Check for factor [3, 5]: True\n",
      "Check for factor [5, 1]: True\n"
     ]
    }
   ],
   "source": [
    "factors = [[4, 4], [3, 5], [5, 1]]\n",
    "\n",
    "for factor in factors:\n",
    "    \n",
    "    upsampled_img_skimage = upsample_skimage(factor=factor, input_img=img)\n",
    "    upsampled_img_tf = upsample_tf(factor=factor, input_img=img)\n",
    "    \n",
    "    are_equal = np.allclose(upsampled_img_skimage, upsampled_img_tf)\n",
    "    \n",
    "    print(\"Check for factor {}: {}\".format(factor, are_equal))"
   ]
  }
 ],
 "metadata": {
  "kernelspec": {
   "display_name": "Python 3",
   "language": "python",
   "name": "python3"
  },
  "language_info": {
   "codemirror_mode": {
    "name": "ipython",
    "version": 3
   },
   "file_extension": ".py",
   "mimetype": "text/x-python",
   "name": "python",
   "nbconvert_exporter": "python",
   "pygments_lexer": "ipython3",
   "version": "3.5.3"
  }
 },
 "nbformat": 4,
 "nbformat_minor": 2
}
