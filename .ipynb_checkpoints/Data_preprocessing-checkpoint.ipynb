{
 "cells": [
  {
   "cell_type": "code",
   "execution_count": 1,
   "metadata": {
    "collapsed": true
   },
   "outputs": [],
   "source": [
    "import numpy as np\n",
    "import glob\n",
    "import skimage.io as io\n",
    "import os.path\n",
    "import tensorflow as tf"
   ]
  },
  {
   "cell_type": "code",
   "execution_count": 3,
   "metadata": {
    "collapsed": true
   },
   "outputs": [],
   "source": [
    "def fimg_to_fmask(img_path):\n",
    "    # convert an image file path into a corresponding mask file path \n",
    "    dirname, basename = os.path.split(img_path)\n",
    "    maskname = basename.replace(\".tif\", \"_mask.tif\")\n",
    "    return os.path.join(dirname, maskname)"
   ]
  },
  {
   "cell_type": "code",
   "execution_count": 4,
   "metadata": {},
   "outputs": [
    {
     "name": "stdout",
     "output_type": "stream",
     "text": [
      "number of image segmentation pairs:  599\n"
     ]
    }
   ],
   "source": [
    "origin_images_subset = [img for img in glob.glob(\"train_subset/*.tif\") if 'mask' not in img]\n",
    "paired_images_subset = [(img, fimg_to_fmask(img)) for img in origin_images_subset]\n",
    "print(\"number of image segmentation pairs: \", len(paired_images_subset))"
   ]
  },
  {
   "cell_type": "code",
   "execution_count": 5,
   "metadata": {},
   "outputs": [
    {
     "name": "stdout",
     "output_type": "stream",
     "text": [
      "number of image segmentation pairs:  5635\n"
     ]
    }
   ],
   "source": [
    "origin_images_full = [img for img in glob.glob(\"train/*.tif\") if 'mask' not in img]\n",
    "paired_images_full = [(img, fimg_to_fmask(img)) for img in origin_images_full]\n",
    "print(\"number of image segmentation pairs: \", len(paired_images_full))"
   ]
  },
  {
   "cell_type": "code",
   "execution_count": null,
   "metadata": {
    "collapsed": true
   },
   "outputs": [],
   "source": [
    "%matplotlib inline\n",
    "# check an image instance\n",
    "img = io.imread('train_subset/1_1.tif')\n",
    "mask =io.imread('train_subset/1_1_mask.tif')\n",
    "print(type(img))\n",
    "print(img.shape)\n",
    "io.imshow(img)\n",
    "io.show()\n",
    "io.imshow(mask)\n",
    "io.show()"
   ]
  },
  {
   "cell_type": "code",
   "execution_count": 6,
   "metadata": {},
   "outputs": [
    {
     "name": "stderr",
     "output_type": "stream",
     "text": [
      "Using TensorFlow backend.\n"
     ]
    }
   ],
   "source": [
    "from keras.preprocessing.image import ImageDataGenerator\n",
    "import numpy as np\n",
    "\n",
    "def image_augmentation(img, save_dir):\n",
    "    datagen = ImageDataGenerator(\n",
    "            rotation_range=180,\n",
    "            horizontal_flip=True,\n",
    "            fill_mode='nearest')\n",
    "    img = np.expand_dims(img, 0)\n",
    "    img = np.expand_dims(img, -1)\n",
    "    \n",
    "    i = 0\n",
    "    for batch in datagen.flow(img, batch_size=1,\n",
    "                          save_to_dir=save_dir, save_prefix=\"mask\", save_format='jpeg'):\n",
    "        i += 1\n",
    "        if i > 10:\n",
    "            break"
   ]
  },
  {
   "cell_type": "code",
   "execution_count": 5,
   "metadata": {
    "collapsed": true
   },
   "outputs": [],
   "source": [
    "def images_split(paired_images, full=False, train=True):\n",
    "    \n",
    "    fcn_img = \"data_fcn\"\n",
    "    fcn_mask = \"data_fcn\"\n",
    "    simple_cnn_img = \"data_simple_cnn\"\n",
    "    simple_cnn_mask = \"data_simple_cnn\"\n",
    "    \n",
    "    if full:\n",
    "        fcn_img += \"_full\"\n",
    "        fcn_mask += \"_full\"\n",
    "        simple_cnn_img += \"_full\"\n",
    "        simple_cnn_mask += \"_full\"\n",
    "    \n",
    "    if train:\n",
    "        fcn_img += \"/train/images/images/\"\n",
    "        fcn_mask += \"/train/masks/masks/\"\n",
    "        simple_cnn_img += \"/train/no_mask/\"\n",
    "        simple_cnn_mask += \"/train/mask/\"\n",
    "    else: \n",
    "        fcn_img += \"/validation/images/images/\"\n",
    "        fcn_mask += \"/validation/masks/masks/\"\n",
    "        simple_cnn_img += \"/validation/no_mask/\"\n",
    "        simple_cnn_mask += \"/validation/mask/\"\n",
    "        \n",
    "    \n",
    "    count_no_mask = 1\n",
    "    count_mask = 1\n",
    "    count_fcn = 1\n",
    "    for raw_img, raw_mask in paired_images:\n",
    "        img = io.imread(raw_img)\n",
    "        mask = io.imread(raw_mask) / 255\n",
    "        for i in range(6):\n",
    "            for j in range(5):\n",
    "                small_img = img[i*70:(i+1)*70, j*116:(j+1)*116]\n",
    "                small_mask = mask[i*70:(i+1)*70, j*116:(j+1)*116]\n",
    "                io.imsave(fcn_img + str(count_fcn) + \".jpg\", small_img / 255)\n",
    "                io.imsave(fcn_mask + str(count_fcn) + \"_mask.jpg\", small_mask)\n",
    "                count_fcn += 1\n",
    "                if np.sum(mask[i*70:(i+1)*70, j*116:(j+1)*116]) >= 400:\n",
    "                    io.imsave(simple_cnn_mask + str(count_mask) + \"_mask.jpg\", small_img)\n",
    "                    count_mask += 1\n",
    "                else:\n",
    "                    io.imsave(simple_cnn_img + str(count_no_mask) + \".jpg\", small_img)\n",
    "                    count_no_mask += 1\n",
    "    print(\"Finished splitting and saving images and segmentations\")"
   ]
  },
  {
   "cell_type": "code",
   "execution_count": null,
   "metadata": {
    "collapsed": true
   },
   "outputs": [],
   "source": [
    "images_split(paired_images_subset[:480], full=False, train=True)\n",
    "images_split(paired_images_subset[480:], full=False, train=False)"
   ]
  },
  {
   "cell_type": "code",
   "execution_count": 9,
   "metadata": {},
   "outputs": [
    {
     "name": "stdout",
     "output_type": "stream",
     "text": [
      "images with no mask:  13982\n",
      "images with mask:  10275\n",
      "mask to no mask ratio 0.7348734086682878\n"
     ]
    }
   ],
   "source": [
    "imgs_no_mask = [img for img in glob.glob(\"data_simple_cnn/train/no_mask/*\")]\n",
    "imgs_mask = [img for img in glob.glob(\"data_simple_cnn/train/mask/*\")]\n",
    "\n",
    "print(\"images with no mask: \", len(imgs_no_mask))\n",
    "print(\"images with mask: \", len(imgs_mask))\n",
    "print(\"mask to no mask ratio\", float(len(imgs_mask))/len(imgs_no_mask))"
   ]
  },
  {
   "cell_type": "code",
   "execution_count": null,
   "metadata": {
    "collapsed": true,
    "scrolled": true
   },
   "outputs": [],
   "source": [
    "# 5635\n",
    "images_split(paired_images_full[:5000], full=True, train=True)"
   ]
  },
  {
   "cell_type": "code",
   "execution_count": null,
   "metadata": {
    "collapsed": true
   },
   "outputs": [],
   "source": [
    "images_split(paired_images_full[5000:], full=True, train=False)"
   ]
  },
  {
   "cell_type": "code",
   "execution_count": 10,
   "metadata": {},
   "outputs": [
    {
     "name": "stdout",
     "output_type": "stream",
     "text": [
      "images with no mask:  323227\n",
      "images with mask:  350497\n",
      "mask to no mask ratio 1.0843679519347085\n"
     ]
    }
   ],
   "source": [
    "imgs_no_mask = [img for img in glob.glob(\"data_simple_cnn_full/train/no_mask/*\")]\n",
    "imgs_mask = [img for img in glob.glob(\"data_simple_cnn_full/train/mask/*\")]\n",
    "\n",
    "print(\"images with no mask: \", len(imgs_no_mask))\n",
    "print(\"images with mask: \", len(imgs_mask))\n",
    "print(\"mask to no mask ratio\", float(len(imgs_mask))/len(imgs_no_mask))"
   ]
  },
  {
   "cell_type": "code",
   "execution_count": 11,
   "metadata": {},
   "outputs": [],
   "source": [
    "from keras.preprocessing.image import ImageDataGenerator\n",
    "import numpy as np\n",
    "\n",
    "def image_augmentation(img, save_dir, save_prefix):\n",
    "    datagen = ImageDataGenerator(\n",
    "            rotation_range=180,\n",
    "            horizontal_flip=True,\n",
    "            fill_mode='nearest')\n",
    "    img = np.expand_dims(img, 0)\n",
    "    img = np.expand_dims(img, -1)\n",
    "    \n",
    "    i = 0\n",
    "    for batch in datagen.flow(img, batch_size=1,\n",
    "                          save_to_dir=save_dir, save_prefix=save_prefix, save_format='jpg'):\n",
    "        i += 1\n",
    "        if i > 5:\n",
    "            break"
   ]
  },
  {
   "cell_type": "markdown",
   "metadata": {},
   "source": [
    "### augment train/mask"
   ]
  },
  {
   "cell_type": "code",
   "execution_count": 12,
   "metadata": {
    "collapsed": true
   },
   "outputs": [],
   "source": [
    "import random\n",
    "\n",
    "for count in range((len(imgs_no_mask) - len(imgs_mask))//5):\n",
    "    n = len(imgs_mask)\n",
    "    i = random.randint(1, n-1)\n",
    "    small_img = io.imread(imgs_mask[i])\n",
    "    image_augmentation(small_img, \"data_simple_cnn_full/train/mask/\", \"aug_\"+str(count))"
   ]
  },
  {
   "cell_type": "markdown",
   "metadata": {},
   "source": [
    "#### check image numbers"
   ]
  },
  {
   "cell_type": "code",
   "execution_count": 12,
   "metadata": {},
   "outputs": [
    {
     "name": "stdout",
     "output_type": "stream",
     "text": [
      "images with no mask:  323227\n",
      "images with mask:  350497\n",
      "mask to no mask ratio 1.0843679519347085\n"
     ]
    }
   ],
   "source": [
    "imgs_no_mask = [img for img in glob.glob(\"data_simple_cnn_full/train/no_mask/*\")]\n",
    "imgs_mask = [img for img in glob.glob(\"data_simple_cnn_full/train/mask/*\")]\n",
    "\n",
    "print(\"images with no mask: \", len(imgs_no_mask))\n",
    "print(\"images with mask: \", len(imgs_mask))\n",
    "print(\"mask to no mask ratio\", float(len(imgs_mask))/len(imgs_no_mask))"
   ]
  },
  {
   "cell_type": "markdown",
   "metadata": {},
   "source": [
    "### augment both train/mask and train/no_mask"
   ]
  },
  {
   "cell_type": "code",
   "execution_count": 14,
   "metadata": {
    "collapsed": true
   },
   "outputs": [],
   "source": [
    "for count in range(150000//5):\n",
    "    i = random.randint(1, len(imgs_mask)-1)\n",
    "    small_img = io.imread(imgs_mask[i])\n",
    "    image_augmentation(small_img, \"data_simple_cnn_full/train/mask/\", \"more_aug_\"+str(count))\n",
    "    j = random.randint(1, len(imgs_no_mask)-1)\n",
    "    small_img = io.imread(imgs_no_mask[j])\n",
    "    image_augmentation(small_img, \"data_simple_cnn_full/train/no_mask/\", \"more_aug_\"+str(count))"
   ]
  },
  {
   "cell_type": "markdown",
   "metadata": {},
   "source": [
    "#### check image numbers"
   ]
  },
  {
   "cell_type": "code",
   "execution_count": 13,
   "metadata": {},
   "outputs": [
    {
     "name": "stdout",
     "output_type": "stream",
     "text": [
      "images with no mask:  323227\n",
      "images with mask:  350497\n",
      "mask to no mask ratio 1.0843679519347085\n"
     ]
    }
   ],
   "source": [
    "imgs_no_mask = [img for img in glob.glob(\"data_simple_cnn_full/train/no_mask/*\")]\n",
    "imgs_mask = [img for img in glob.glob(\"data_simple_cnn_full/train/mask/*\")]\n",
    "\n",
    "print(\"images with no mask: \", len(imgs_no_mask))\n",
    "print(\"images with mask: \", len(imgs_mask))\n",
    "print(\"mask to no mask ratio\", float(len(imgs_mask))/len(imgs_no_mask))"
   ]
  },
  {
   "cell_type": "markdown",
   "metadata": {},
   "source": [
    "### check validation image numbers"
   ]
  },
  {
   "cell_type": "code",
   "execution_count": 14,
   "metadata": {},
   "outputs": [
    {
     "name": "stdout",
     "output_type": "stream",
     "text": [
      "images with no mask:  43955\n",
      "images with mask:  47440\n",
      "mask to no mask ratio 1.0792856330337846\n"
     ]
    }
   ],
   "source": [
    "imgs_no_mask_val = [img for img in glob.glob(\"data_simple_cnn_full/validation/no_mask/*\")]\n",
    "imgs_mask_val = [img for img in glob.glob(\"data_simple_cnn_full/validation/mask/*\")]\n",
    "\n",
    "print(\"images with no mask: \", len(imgs_no_mask_val))\n",
    "print(\"images with mask: \", len(imgs_mask_val))\n",
    "print(\"mask to no mask ratio\", float(len(imgs_mask_val))/len(imgs_no_mask_val))"
   ]
  },
  {
   "cell_type": "markdown",
   "metadata": {},
   "source": [
    "### augment validation/mask"
   ]
  },
  {
   "cell_type": "code",
   "execution_count": 17,
   "metadata": {
    "collapsed": true
   },
   "outputs": [],
   "source": [
    "for count in range((len(imgs_no_mask_val) - len(imgs_mask_val))//5):\n",
    "    n = len(imgs_mask_val)\n",
    "    i = random.randint(1, n-1)\n",
    "    small_img = io.imread(imgs_mask_val[i])\n",
    "    image_augmentation(small_img, \"data_simple_cnn_full/validation/mask/\", \"aug_\"+str(count))"
   ]
  },
  {
   "cell_type": "markdown",
   "metadata": {},
   "source": [
    "### check validation image numbers"
   ]
  },
  {
   "cell_type": "code",
   "execution_count": 15,
   "metadata": {},
   "outputs": [
    {
     "name": "stdout",
     "output_type": "stream",
     "text": [
      "images with no mask:  43955\n",
      "images with mask:  47440\n",
      "mask to no mask ratio 1.0792856330337846\n"
     ]
    }
   ],
   "source": [
    "imgs_no_mask_val = [img for img in glob.glob(\"data_simple_cnn_full/validation/no_mask/*\")]\n",
    "imgs_mask_val = [img for img in glob.glob(\"data_simple_cnn_full/validation/mask/*\")]\n",
    "\n",
    "print(\"images with no mask: \", len(imgs_no_mask_val))\n",
    "print(\"images with mask: \", len(imgs_mask_val))\n",
    "print(\"mask to no mask ratio\", float(len(imgs_mask_val))/len(imgs_no_mask_val))"
   ]
  },
  {
   "cell_type": "markdown",
   "metadata": {},
   "source": [
    "### augment both validation/mask and validation/no_mask"
   ]
  },
  {
   "cell_type": "code",
   "execution_count": 20,
   "metadata": {
    "collapsed": true
   },
   "outputs": [],
   "source": [
    "for count in range(15000//5):\n",
    "    i = random.randint(1, len(imgs_mask_val)-1)\n",
    "    small_img = io.imread(imgs_mask_val[i])\n",
    "    image_augmentation(small_img, \"data_simple_cnn_full/validation/mask/\", \"more_aug_\"+str(count))\n",
    "    j = random.randint(1, len(imgs_no_mask_val)-1)\n",
    "    small_img = io.imread(imgs_no_mask_val[j])\n",
    "    image_augmentation(small_img, \"data_simple_cnn_full/validation/no_mask/\", \"more_aug_\"+str(count))"
   ]
  },
  {
   "cell_type": "markdown",
   "metadata": {},
   "source": [
    "#### check image numbers"
   ]
  },
  {
   "cell_type": "code",
   "execution_count": 16,
   "metadata": {},
   "outputs": [
    {
     "name": "stdout",
     "output_type": "stream",
     "text": [
      "images with no mask:  43955\n",
      "images with mask:  47440\n",
      "mask to no mask ratio 1.0792856330337846\n"
     ]
    }
   ],
   "source": [
    "imgs_no_mask_val = [img for img in glob.glob(\"data_simple_cnn_full/validation/no_mask/*\")]\n",
    "imgs_mask_val = [img for img in glob.glob(\"data_simple_cnn_full/validation/mask/*\")]\n",
    "\n",
    "print(\"images with no mask: \", len(imgs_no_mask_val))\n",
    "print(\"images with mask: \", len(imgs_mask_val))\n",
    "print(\"mask to no mask ratio\", float(len(imgs_mask_val))/len(imgs_no_mask_val))"
   ]
  },
  {
   "cell_type": "markdown",
   "metadata": {},
   "source": [
    "# Augment data_fcn and data_fcn_full for FCN model training"
   ]
  },
  {
   "cell_type": "markdown",
   "metadata": {},
   "source": [
    "## augment images and corresponding masks if defected"
   ]
  },
  {
   "cell_type": "code",
   "execution_count": 19,
   "metadata": {},
   "outputs": [
    {
     "name": "stdout",
     "output_type": "stream",
     "text": [
      "data_fcn/train/masks/masks/9952_mask.jpg\n",
      "No. of train masks:  14400\n",
      "No. of defected masks:  528\n",
      "defected ratio:  0.03666666666666667\n"
     ]
    }
   ],
   "source": [
    "def defected(mask):\n",
    "    return np.sum(mask[:,:]) >= 400\n",
    "\n",
    "train_masks = [ma for ma in glob.glob(\"data_fcn/train/masks/masks/*\")]\n",
    "defected_masks = [defected(io.imread(ma)) for ma in train_masks]\n",
    "print(\"No. of train masks: \", len(train_masks))\n",
    "print(\"No. of defected masks: \", sum(defected_masks))\n",
    "print(\"defected ratio: \", float(sum(defected_masks))/len(train_masks))"
   ]
  },
  {
   "cell_type": "code",
   "execution_count": null,
   "metadata": {
    "collapsed": true
   },
   "outputs": [],
   "source": [
    "def image_augmentation(img, save_dir, save_prefix, seed):\n",
    "    datagen = ImageDataGenerator(rotation_range=180, horizontal_flip=True, fill_mode='nearest')\n",
    "    img = np.expand_dims(img, 0)\n",
    "    img = np.expand_dims(img, -1)\n",
    "    i = 0\n",
    "    for batch in datagen.flow(img, batch_size=1, save_to_dir=save_dir, \n",
    "                              save_prefix=save_prefix, save_format='jpg', seed=seed):\n",
    "        i += 1\n",
    "        if i > 5:\n",
    "            break"
   ]
  },
  {
   "cell_type": "code",
   "execution_count": 23,
   "metadata": {},
   "outputs": [
    {
     "name": "stdout",
     "output_type": "stream",
     "text": [
      "14400\n"
     ]
    }
   ],
   "source": [
    "def fimg_to_fmask(img_path, mask_folder):\n",
    "    # convert an image file path into a corresponding mask file path \n",
    "    dirname, basename = os.path.split(img_path)\n",
    "    maskname = basename.replace(\".jpg\", \"_mask.jpg\")\n",
    "    return os.path.join(mask_folder, maskname)\n",
    "\n",
    "img_folder = \"data_fcn/train/images/images/\"\n",
    "mask_folder = \"data_fcn/train/masks/masks/\"\n",
    "\n",
    "fcn_train_imgs = [img for img in glob.glob(img_folder+\"*\")]\n",
    "fcn_train_pairs = [(img, fimg_to_fmask(img, mask_folder)) for img in fcn_train_imgs]\n",
    "\n",
    "#mask=[] img=[]\n",
    "#for batch in datagen.flow(x, batch_size=1, seed=1337): img.append(batch)\n",
    "#for batch in datagen.flow(ymask, batch_size=1, seed=1337): mask.append(batch)"
   ]
  }
 ],
 "metadata": {
  "anaconda-cloud": {},
  "kernelspec": {
   "display_name": "Python 3",
   "language": "python",
   "name": "python3"
  },
  "language_info": {
   "codemirror_mode": {
    "name": "ipython",
    "version": 3
   },
   "file_extension": ".py",
   "mimetype": "text/x-python",
   "name": "python",
   "nbconvert_exporter": "python",
   "pygments_lexer": "ipython3",
   "version": "3.6.2"
  },
  "widgets": {
   "state": {},
   "version": "1.1.0"
  }
 },
 "nbformat": 4,
 "nbformat_minor": 2
}
